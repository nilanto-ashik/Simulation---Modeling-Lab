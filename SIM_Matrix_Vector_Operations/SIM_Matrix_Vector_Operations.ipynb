{
  "nbformat": 4,
  "nbformat_minor": 0,
  "metadata": {
    "colab": {
      "provenance": []
    },
    "kernelspec": {
      "name": "python3",
      "display_name": "Python 3"
    },
    "language_info": {
      "name": "python"
    }
  },
  "cells": [
    {
      "cell_type": "markdown",
      "source": [
        "# Simulation and Modeling Lab — Day 1\n",
        "**Course Code:** CSE 413  \n",
        "**Level/Term:** 4/1  \n",
        "**Instructor:** Audity Ghosh  \n",
        "**Student Name:** Md. Rahmatulla Ashik  \n",
        "**Student ID:** 0432220005101007  \n"
      ],
      "metadata": {
        "id": "FL3FPCSbS-c9"
      }
    },
    {
      "cell_type": "markdown",
      "source": [
        "# Necessary Libraries"
      ],
      "metadata": {
        "id": "z5jIiHuUbrt1"
      }
    },
    {
      "cell_type": "code",
      "source": [
        "import numpy as np\n",
        "from sympy import Matrix\n",
        "import matplotlib.pyplot as plt\n",
        "import seaborn as sns\n"
      ],
      "metadata": {
        "id": "iMoNhvKAbw2-"
      },
      "execution_count": null,
      "outputs": []
    },
    {
      "cell_type": "markdown",
      "source": [
        "#1. Scalar & Array Operations (Redo Section with Your Own Values):\n"
      ],
      "metadata": {
        "id": "Kgl_dEJzb_j1"
      }
    },
    {
      "cell_type": "code",
      "source": [
        "# Sample scalar and array inputs\n",
        "scalar = 3.7\n",
        "arr = np.array([1,2,3,4,5,6])\n",
        "\n",
        "# Trigonometric functions\n",
        "sin_values = np.sin(arr)\n",
        "cos_values = np.cos(arr)\n",
        "tan_values = np.tan(arr)\n",
        "asin_values = np.arcsin(np.clip(arr / np.max(arr), -1, 1))  # Normalized and Clipping for valid range [-1, 1]\n",
        "acos_values = np.arccos(np.clip(arr / np.max(arr), -1, 1))\n",
        "atan_values = np.arctan(arr)\n",
        "\n",
        "# Exponential and logarithm\n",
        "exp_values = np.exp(arr)\n",
        "log_values = np.log(arr)  # Natural logarithm\n",
        "\n",
        "# Absolute value and square root\n",
        "abs_values = np.abs(arr)\n",
        "sqrt_values = np.sqrt(arr)\n",
        "\n",
        "# Remainder when divided by scalar\n",
        "rem_values = np.remainder(arr, scalar)\n",
        "\n",
        "# Rounding functions\n",
        "round_values = np.round(arr)\n",
        "floor_values = np.floor(arr)\n",
        "ceil_values = np.ceil(arr)\n",
        "\n",
        "# Display results\n",
        "print(\"sin:\", sin_values)\n",
        "print(\"cos:\", cos_values)\n",
        "print(\"tan:\", tan_values)\n",
        "print(\"asin:\", asin_values)\n",
        "print(\"acos:\", acos_values)\n",
        "print(\"atan:\", atan_values)\n",
        "print(\"exp:\", exp_values)\n",
        "print(\"log:\", log_values)\n",
        "print(\"abs:\", abs_values)\n",
        "print(\"sqrt:\", sqrt_values)\n",
        "print(\"rem:\", rem_values)\n",
        "print(\"round:\", round_values)\n",
        "print(\"floor:\", floor_values)\n",
        "print(\"ceil:\", ceil_values)\n"
      ],
      "metadata": {
        "colab": {
          "base_uri": "https://localhost:8080/"
        },
        "id": "T9izpVDLcEoG",
        "outputId": "874b16d3-7867-459e-aad4-6a7f22ca0dca"
      },
      "execution_count": null,
      "outputs": [
        {
          "output_type": "stream",
          "name": "stdout",
          "text": [
            "sin: [ 0.84147098  0.90929743  0.14112001 -0.7568025  -0.95892427 -0.2794155 ]\n",
            "cos: [ 0.54030231 -0.41614684 -0.9899925  -0.65364362  0.28366219  0.96017029]\n",
            "tan: [ 1.55740772 -2.18503986 -0.14254654  1.15782128 -3.38051501 -0.29100619]\n",
            "asin: [0.16744808 0.33983691 0.52359878 0.72972766 0.98511078 1.57079633]\n",
            "acos: [1.40334825 1.23095942 1.04719755 0.84106867 0.58568554 0.        ]\n",
            "atan: [0.78539816 1.10714872 1.24904577 1.32581766 1.37340077 1.40564765]\n",
            "exp: [  2.71828183   7.3890561   20.08553692  54.59815003 148.4131591\n",
            " 403.42879349]\n",
            "log: [0.         0.69314718 1.09861229 1.38629436 1.60943791 1.79175947]\n",
            "abs: [1 2 3 4 5 6]\n",
            "sqrt: [1.         1.41421356 1.73205081 2.         2.23606798 2.44948974]\n",
            "rem: [1.  2.  3.  0.3 1.3 2.3]\n",
            "round: [1 2 3 4 5 6]\n",
            "floor: [1. 2. 3. 4. 5. 6.]\n",
            "ceil: [1. 2. 3. 4. 5. 6.]\n"
          ]
        }
      ]
    },
    {
      "cell_type": "markdown",
      "source": [
        "# 3×2 Matrix Calculations:\n"
      ],
      "metadata": {
        "id": "w9Me7rZpcyrG"
      }
    },
    {
      "cell_type": "code",
      "source": [
        "# Creating a 3x2 matrix\n",
        "matrix = np.array([[1, 2], [3, 4], [4,5]])\n",
        "\n",
        "# Trigonometric functions\n",
        "sin_values = np.sin(matrix)\n",
        "cos_values = np.cos(matrix)\n",
        "tan_values = np.tan(matrix)\n",
        "asin_values = np.arcsin(np.clip(matrix / np.max(matrix), -1, 1))  # Clipping for valid range [-1, 1]\n",
        "acos_values = np.arccos(np.clip(matrix / np.max(matrix), -1, 1))\n",
        "atan_values = np.arctan(matrix)\n",
        "\n",
        "# Exponential and logarithm\n",
        "exp_values = np.exp(matrix)\n",
        "log_values = np.log(matrix)  # Natural logarithm (log base e)\n",
        "\n",
        "# Absolute value and square root\n",
        "abs_values = np.abs(matrix)\n",
        "sqrt_values = np.sqrt(matrix)\n",
        "\n",
        "# Remainder when divided by a scalar (e.g., 2)\n",
        "rem_values = np.remainder(matrix, 2)\n",
        "\n",
        "# Rounding functions\n",
        "round_values = np.round(matrix)\n",
        "floor_values = np.floor(matrix)\n",
        "ceil_values = np.ceil(matrix)\n",
        "\n",
        "# Display results\n",
        "print(\"Matrix:\\n\", matrix)\n",
        "print(\"\\nsin:\\n\", sin_values)\n",
        "print(\"\\ncos:\\n\", cos_values)\n",
        "print(\"\\ntan:\\n\", tan_values)\n",
        "print(\"\\nasine:\\n\", asin_values)\n",
        "print(\"\\nacosine:\\n\", acos_values)\n",
        "print(\"\\natangent:\\n\", atan_values)\n",
        "print(\"\\nexp:\\n\", exp_values)\n",
        "print(\"\\nlog (natural):\\n\", log_values)\n",
        "print(\"\\nabs:\\n\", abs_values)\n",
        "print(\"\\nsqrt:\\n\", sqrt_values)\n",
        "print(\"\\nrem (remainder when divided by 2):\\n\", rem_values)\n",
        "print(\"\\nround:\\n\", round_values)\n",
        "print(\"\\nfloor:\\n\", floor_values)\n",
        "print(\"\\nceil:\\n\", ceil_values)\n"
      ],
      "metadata": {
        "colab": {
          "base_uri": "https://localhost:8080/"
        },
        "id": "lXVq5TRSc5b9",
        "outputId": "56d4ada0-201f-4b2b-caed-c38b781b48a0"
      },
      "execution_count": null,
      "outputs": [
        {
          "output_type": "stream",
          "name": "stdout",
          "text": [
            "Matrix:\n",
            " [[1 2]\n",
            " [3 4]\n",
            " [4 5]]\n",
            "\n",
            "sin:\n",
            " [[ 0.84147098  0.90929743]\n",
            " [ 0.14112001 -0.7568025 ]\n",
            " [-0.7568025  -0.95892427]]\n",
            "\n",
            "cos:\n",
            " [[ 0.54030231 -0.41614684]\n",
            " [-0.9899925  -0.65364362]\n",
            " [-0.65364362  0.28366219]]\n",
            "\n",
            "tan:\n",
            " [[ 1.55740772 -2.18503986]\n",
            " [-0.14254654  1.15782128]\n",
            " [ 1.15782128 -3.38051501]]\n",
            "\n",
            "asine:\n",
            " [[0.20135792 0.41151685]\n",
            " [0.64350111 0.92729522]\n",
            " [0.92729522 1.57079633]]\n",
            "\n",
            "acosine:\n",
            " [[1.36943841 1.15927948]\n",
            " [0.92729522 0.64350111]\n",
            " [0.64350111 0.        ]]\n",
            "\n",
            "atangent:\n",
            " [[0.78539816 1.10714872]\n",
            " [1.24904577 1.32581766]\n",
            " [1.32581766 1.37340077]]\n",
            "\n",
            "exp:\n",
            " [[  2.71828183   7.3890561 ]\n",
            " [ 20.08553692  54.59815003]\n",
            " [ 54.59815003 148.4131591 ]]\n",
            "\n",
            "log (natural):\n",
            " [[0.         0.69314718]\n",
            " [1.09861229 1.38629436]\n",
            " [1.38629436 1.60943791]]\n",
            "\n",
            "abs:\n",
            " [[1 2]\n",
            " [3 4]\n",
            " [4 5]]\n",
            "\n",
            "sqrt:\n",
            " [[1.         1.41421356]\n",
            " [1.73205081 2.        ]\n",
            " [2.         2.23606798]]\n",
            "\n",
            "rem (remainder when divided by 2):\n",
            " [[1 0]\n",
            " [1 0]\n",
            " [0 1]]\n",
            "\n",
            "round:\n",
            " [[1 2]\n",
            " [3 4]\n",
            " [4 5]]\n",
            "\n",
            "floor:\n",
            " [[1. 2.]\n",
            " [3. 4.]\n",
            " [4. 5.]]\n",
            "\n",
            "ceil:\n",
            " [[1. 2.]\n",
            " [3. 4.]\n",
            " [4. 5.]]\n"
          ]
        }
      ]
    },
    {
      "cell_type": "markdown",
      "source": [
        "# Task: Perform Same Operations on a 2×3 Matrix\n"
      ],
      "metadata": {
        "id": "DHfUHb4_dxw9"
      }
    },
    {
      "cell_type": "code",
      "source": [
        "# Creating a 2x3 matrix\n",
        "matrix = np.array([[1, 2, 6], [3, 4, 5]])\n",
        "\n",
        "# Trigonometric functions\n",
        "sin_values = np.sin(matrix)\n",
        "cos_values = np.cos(matrix)\n",
        "tan_values = np.tan(matrix)\n",
        "asin_values = np.arcsin(np.clip(matrix / np.max(matrix), -1, 1))  # Clipping for valid range [-1, 1]\n",
        "acos_values = np.arccos(np.clip(matrix / np.max(matrix), -1, 1))\n",
        "atan_values = np.arctan(matrix)\n",
        "\n",
        "# Exponential and logarithm\n",
        "exp_values = np.exp(matrix)\n",
        "log_values = np.log(matrix)  # Natural logarithm (log base e)\n",
        "\n",
        "# Absolute value and square root\n",
        "abs_values = np.abs(matrix)\n",
        "sqrt_values = np.sqrt(matrix)\n",
        "\n",
        "# Remainder when divided by a scalar (e.g., 2)\n",
        "rem_values = np.remainder(matrix, 2)\n",
        "\n",
        "# Rounding functions\n",
        "round_values = np.round(matrix)\n",
        "floor_values = np.floor(matrix)\n",
        "ceil_values = np.ceil(matrix)\n",
        "\n",
        "# Display results\n",
        "print(\"Matrix:\\n\", matrix)\n",
        "print(\"\\nsin:\\n\", sin_values)\n",
        "print(\"\\ncos:\\n\", cos_values)\n",
        "print(\"\\ntan:\\n\", tan_values)\n",
        "print(\"\\nasine:\\n\", asin_values)\n",
        "print(\"\\nacosine:\\n\", acos_values)\n",
        "print(\"\\natangent:\\n\", atan_values)\n",
        "print(\"\\nexp:\\n\", exp_values)\n",
        "print(\"\\nlog (natural):\\n\", log_values)\n",
        "print(\"\\nabs:\\n\", abs_values)\n",
        "print(\"\\nsqrt:\\n\", sqrt_values)\n",
        "print(\"\\nrem (remainder when divided by 2):\\n\", rem_values)\n",
        "print(\"\\nround:\\n\", round_values)\n",
        "print(\"\\nfloor:\\n\", floor_values)\n",
        "print(\"\\nceil:\\n\", ceil_values)\n"
      ],
      "metadata": {
        "colab": {
          "base_uri": "https://localhost:8080/"
        },
        "id": "56IRA8OFeHTu",
        "outputId": "943e6641-1141-49a5-db0c-d099b8838f56"
      },
      "execution_count": null,
      "outputs": [
        {
          "output_type": "stream",
          "name": "stdout",
          "text": [
            "Matrix:\n",
            " [[1 2 6]\n",
            " [3 4 5]]\n",
            "\n",
            "sin:\n",
            " [[ 0.84147098  0.90929743 -0.2794155 ]\n",
            " [ 0.14112001 -0.7568025  -0.95892427]]\n",
            "\n",
            "cos:\n",
            " [[ 0.54030231 -0.41614684  0.96017029]\n",
            " [-0.9899925  -0.65364362  0.28366219]]\n",
            "\n",
            "tan:\n",
            " [[ 1.55740772 -2.18503986 -0.29100619]\n",
            " [-0.14254654  1.15782128 -3.38051501]]\n",
            "\n",
            "asine:\n",
            " [[0.16744808 0.33983691 1.57079633]\n",
            " [0.52359878 0.72972766 0.98511078]]\n",
            "\n",
            "acosine:\n",
            " [[1.40334825 1.23095942 0.        ]\n",
            " [1.04719755 0.84106867 0.58568554]]\n",
            "\n",
            "atangent:\n",
            " [[0.78539816 1.10714872 1.40564765]\n",
            " [1.24904577 1.32581766 1.37340077]]\n",
            "\n",
            "exp:\n",
            " [[  2.71828183   7.3890561  403.42879349]\n",
            " [ 20.08553692  54.59815003 148.4131591 ]]\n",
            "\n",
            "log (natural):\n",
            " [[0.         0.69314718 1.79175947]\n",
            " [1.09861229 1.38629436 1.60943791]]\n",
            "\n",
            "abs:\n",
            " [[1 2 6]\n",
            " [3 4 5]]\n",
            "\n",
            "sqrt:\n",
            " [[1.         1.41421356 2.44948974]\n",
            " [1.73205081 2.         2.23606798]]\n",
            "\n",
            "rem (remainder when divided by 2):\n",
            " [[1 0 0]\n",
            " [1 0 1]]\n",
            "\n",
            "round:\n",
            " [[1 2 6]\n",
            " [3 4 5]]\n",
            "\n",
            "floor:\n",
            " [[1. 2. 6.]\n",
            " [3. 4. 5.]]\n",
            "\n",
            "ceil:\n",
            " [[1. 2. 6.]\n",
            " [3. 4. 5.]]\n"
          ]
        }
      ]
    },
    {
      "cell_type": "markdown",
      "source": [
        "# Vector Functions"
      ],
      "metadata": {
        "id": "_Gb0E6dfhNZd"
      }
    },
    {
      "cell_type": "code",
      "source": [
        "# Creating a 2x3 matrix vector (1D array)\n",
        "vec = np.array([[1.2, 2.1, 6.5], [3.4, 4.7, 5.3]])\n",
        "\n",
        "# 1. Maximum value and index of max element\n",
        "max_value = np.max(vec)\n",
        "max_index = np.argmax(vec)  # Index of max element\n",
        "\n",
        "# 2. Minimum value and index of min element\n",
        "min_value = np.min(vec)\n",
        "min_index = np.argmin(vec)  # Index of min element\n",
        "\n",
        "# 3. Length of the vector\n",
        "vec_length = len(vec)  # Equivalent to MATLAB's length()\n",
        "\n",
        "# 4. Sorting in ascending order\n",
        "sorted_vec = np.sort(vec)\n",
        "\n",
        "\n",
        "\n",
        "# 5. Sum of elements\n",
        "sum_values = np.sum(vec)\n",
        "\n",
        "# 6. Product of elements\n",
        "prod_values = np.prod(vec)\n",
        "\n",
        "# 7. Median value\n",
        "median_value = np.median(vec)\n",
        "\n",
        "# 8. Mean value\n",
        "mean_value = np.mean(vec)\n",
        "\n",
        "# 9. Standard deviation\n",
        "std_dev = np.std(vec)\n",
        "\n",
        "# Display results\n",
        "print(\"Max value:\", max_value, \"at index\", max_index)\n",
        "print(\"Min value:\", min_value, \"at index\", min_index)\n",
        "print(\"Length of vector:\", vec_length)\n",
        "print(\"Sorted vector:\", sorted_vec)\n",
        "print(\"Sum of elements:\", sum_values)\n",
        "print(\"Product of elements:\", prod_values)\n",
        "print(\"Median value:\", median_value)\n",
        "print(\"Mean value:\", mean_value)\n",
        "print(\"Standard deviation:\", std_dev)\n"
      ],
      "metadata": {
        "colab": {
          "base_uri": "https://localhost:8080/"
        },
        "id": "pINwKEUrhOJ-",
        "outputId": "8dbaef65-77bf-4d85-fba4-ac73d74ed9b6"
      },
      "execution_count": null,
      "outputs": [
        {
          "output_type": "stream",
          "name": "stdout",
          "text": [
            "Max value: 6.5 at index 2\n",
            "Min value: 1.2 at index 0\n",
            "Length of vector: 2\n",
            "Sorted vector: [[1.2 2.1 6.5]\n",
            " [3.4 4.7 5.3]]\n",
            "Sum of elements: 23.200000000000003\n",
            "Product of elements: 1387.2877199999998\n",
            "Median value: 4.05\n",
            "Mean value: 3.866666666666667\n",
            "Standard deviation: 1.8318175552045448\n"
          ]
        }
      ]
    },
    {
      "cell_type": "code",
      "source": [
        "import matplotlib.pyplot as plt\n",
        "\n",
        "# Replace static input with randomly generated 2x3 matrix\n",
        "# Option 1: Random integers between 1 and 10\n",
        "# matrix = np.random.randint(1, 11, size=(2, 3))\n",
        "\n",
        "# Option 2: Random floats between 0 and 10\n",
        "matrix = np.random.uniform(0, 10, size=(2, 3))\n",
        "\n",
        "# Print the generated matrix\n",
        "print(\"🎲 Randomly Generated 2×3 Matrix:\\n\", matrix)\n",
        "\n",
        "# Heatmap visualization\n",
        "plt.figure(figsize=(6, 4))\n",
        "sns.heatmap(matrix, annot=True, fmt=\".2f\", cmap=\"YlGnBu\", cbar=True, linewidths=0.5)\n",
        "plt.title(\"🔍 Heatmap of 2×3 Matrix\")\n",
        "plt.xlabel(\"Columns\")\n",
        "plt.ylabel(\"Rows\")\n",
        "plt.show()\n"
      ],
      "metadata": {
        "colab": {
          "base_uri": "https://localhost:8080/",
          "height": 517
        },
        "id": "QE0aGDPpizRG",
        "outputId": "239fb319-5a91-4447-af40-6d8d95e70782"
      },
      "execution_count": null,
      "outputs": [
        {
          "output_type": "stream",
          "name": "stdout",
          "text": [
            "🎲 Randomly Generated 2×3 Matrix:\n",
            " [[6.28368059 6.58784503 8.67385478]\n",
            " [7.02106418 7.28670642 8.54847082]]\n"
          ]
        },
        {
          "output_type": "stream",
          "name": "stderr",
          "text": [
            "/usr/local/lib/python3.11/dist-packages/IPython/core/pylabtools.py:151: UserWarning: Glyph 128269 (\\N{LEFT-POINTING MAGNIFYING GLASS}) missing from font(s) DejaVu Sans.\n",
            "  fig.canvas.print_figure(bytes_io, **kw)\n"
          ]
        },
        {
          "output_type": "display_data",
          "data": {
            "text/plain": [
              "<Figure size 600x400 with 2 Axes>"
            ],
            "image/png": "[encoded data removed]"
          },
          "metadata": {}
        }
      ]
    }
  ]
}