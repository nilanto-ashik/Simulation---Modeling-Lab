{
  "nbformat": 4,
  "nbformat_minor": 0,
  "metadata": {
    "colab": {
      "provenance": []
    },
    "kernelspec": {
      "name": "python3",
      "display_name": "Python 3"
    },
    "language_info": {
      "name": "python"
    }
  },
  "cells": [
    {
      "cell_type": "markdown",
      "source": [
        "#Simulation and Modeling Lab  \n",
        "**Course Code:** CSE 413  \n",
        "**Credit Hour:** 3  \n",
        "**Course Teacher:** Audity Ghosh, Lecturer, Department of Computer Science and Engineering, University of Information Technology and Sciences (UITS)  \n",
        "**Name: Md. Rahmatulla Ashik**  \n",
        "**ID: 0432220005101007**  \n",
        "**Date:** 11 August, 2025  \n"
      ],
      "metadata": {
        "id": "38epnR7BGhK_"
      }
    },
    {
      "cell_type": "markdown",
      "source": [
        "# Necessary Libraries"
      ],
      "metadata": {
        "id": "4bHlVgI2QZdd"
      }
    },
    {
      "cell_type": "code",
      "source": [
        "import random\n",
        "import numpy as np\n",
        "import math\n",
        "from tabulate import tabulate\n"
      ],
      "metadata": {
        "id": "sX8pAoTvQcT-"
      },
      "execution_count": 6,
      "outputs": []
    },
    {
      "cell_type": "markdown",
      "source": [
        "#Task"
      ],
      "metadata": {
        "id": "NlBP_UhtpY05"
      }
    },
    {
      "cell_type": "markdown",
      "source": [
        "# Part 1: Setup & Personalization"
      ],
      "metadata": {
        "id": "iIiBODrBx3DJ"
      }
    },
    {
      "cell_type": "markdown",
      "source": [
        "# Steps:\n",
        "\n",
        "1. **Extract last two digits of your student ID**.\n",
        "\n",
        "   * For example, if the last two digits of your student ID are `42`, then you will generate `42 * 100 = 4200` random points.\n",
        "\n",
        "2. **Define the number of random points to generate**.\n",
        "   The formula provided in the task is:\n",
        "\n",
        "   $$\n",
        "   \\text{num\\_points} = \\text{last\\_two\\_digits\\_of\\_ID} \\times 100\n",
        "   $$\n",
        "\n",
        "#### Example:\n",
        "\n",
        "Let’s assume the last two digits of your student ID are `42`. In that case, the number of random points will be:\n",
        "\n",
        "$$\n",
        "\\text{num\\_points} = 42 \\times 100 = 4200\n",
        "$$\n",
        "\n",
        "So, in code, you can set:"
      ],
      "metadata": {
        "id": "Rf9KVq7GyKta"
      }
    },
    {
      "cell_type": "code",
      "source": [
        "# Example, if your student ID ends with 07\n",
        "num_points = 7 * 100  # Total points based on student ID"
      ],
      "metadata": {
        "id": "L3NWQUAlx4RB"
      },
      "execution_count": 7,
      "outputs": []
    },
    {
      "cell_type": "markdown",
      "source": [
        "# Part 2: Simulation Logic"
      ],
      "metadata": {
        "id": "0bNGaZMNyfvy"
      }
    },
    {
      "cell_type": "markdown",
      "source": [
        "Now let's move on to simulating the random points and checking if they fall inside or outside the circle.\n",
        "\n",
        "#### Steps:\n",
        "\n",
        "1. **Generate random points within the range \\[0, 1]** for both the `x` and `y` coordinates.\n",
        "2. **Check if the point is inside the circle**: The equation of the circle is:\n",
        "\n",
        "   $$\n",
        "   x^2 + y^2 \\leq 1\n",
        "   $$\n",
        "\n",
        "   * If the point satisfies this equation, it is inside the circle.\n",
        "3. **Keep a running count of the points inside the circle**.\n",
        "4. **Points inside the circle** and **points outside the circle** are counted separately.\n",
        "\n",
        "#### Code:"
      ],
      "metadata": {
        "id": "Ln3E3RHCym0q"
      }
    },
    {
      "cell_type": "code",
      "source": [
        "import random\n",
        "\n",
        "# Function to estimate Pi\n",
        "def estimate_pi(num_points):\n",
        "    inside = 0  # Counter for points inside the circle\n",
        "    # Loop to generate random points\n",
        "    for _ in range(num_points):\n",
        "        x = random.random()  # Random x-coordinate between 0 and 1\n",
        "        y = random.random()  # Random y-coordinate between 0 and 1\n",
        "\n",
        "        # Check if the point lies inside the circle (x^2 + y^2 <= 1)\n",
        "        if x**2 + y**2 <= 1:\n",
        "            inside += 1  # Increment the counter if inside the circle\n",
        "\n",
        "    # Estimate Pi using the formula\n",
        "    pi = 4 * inside / num_points\n",
        "    print(f\"Estimated Pi for {num_points} points, points inside: {inside}, Pi is: {pi}\")\n"
      ],
      "metadata": {
        "id": "afHnNuZgyvE6"
      },
      "execution_count": 8,
      "outputs": []
    },
    {
      "cell_type": "markdown",
      "source": [
        "This function `estimate_pi(num_points)`:\n",
        "\n",
        "* Generates random points using `random.random()`.\n",
        "* Counts how many points fall inside the unit circle (i.e., satisfy the condition $x^2 + y^2 \\leq 1$).\n",
        "* Computes and prints the estimated value of Pi using the formula $\\pi \\approx 4 \\times \\frac{\\text{inside points}}{\\text{total points}}$."
      ],
      "metadata": {
        "id": "mqiOHD6Oy6Hq"
      }
    },
    {
      "cell_type": "markdown",
      "source": [
        "# Part 3: Output & Analysis"
      ],
      "metadata": {
        "id": "4_0fHUXvy_G6"
      }
    },
    {
      "cell_type": "markdown",
      "source": [
        "Now we move to the part where we estimate Pi and analyze the error based on multiple simulations.\n",
        "\n",
        "#### Steps:\n",
        "\n",
        "1. **Run the simulation** with different numbers of points (e.g., 1000, 5000, and 10000).\n",
        "2. **Compare the estimated value of Pi** with the actual value (which is approximately 3.14159).\n",
        "3. **Calculate the error** in each simulation by comparing the estimated value with the true value of Pi.\n",
        "\n",
        "#### Code:"
      ],
      "metadata": {
        "id": "C_-AO8N5zDli"
      }
    },
    {
      "cell_type": "code",
      "source": [
        "# True value of Pi\n",
        "true_pi = 3.14159\n",
        "\n",
        "# Run the simulation with different numbers of points\n",
        "print(\"Simulation 1 (1000 points):\")\n",
        "estimate_pi(1000)\n",
        "\n",
        "print(\"\\nSimulation 2 (5000 points):\")\n",
        "estimate_pi(5000)\n",
        "\n",
        "print(\"\\nSimulation 3 (10000 points):\")\n",
        "estimate_pi(10000)\n",
        "\n",
        "print(\"\\nSimulation with customized points (based on your ID):\")\n",
        "estimate_pi(num_points)"
      ],
      "metadata": {
        "colab": {
          "base_uri": "https://localhost:8080/"
        },
        "id": "fkhL0jZ2zKvK",
        "outputId": "2f16b404-ef68-4a9e-d2ee-d0d71a258d49"
      },
      "execution_count": 9,
      "outputs": [
        {
          "output_type": "stream",
          "name": "stdout",
          "text": [
            "Simulation 1 (1000 points):\n",
            "Estimated Pi for 1000 points, points inside: 787, Pi is: 3.148\n",
            "\n",
            "Simulation 2 (5000 points):\n",
            "Estimated Pi for 5000 points, points inside: 3928, Pi is: 3.1424\n",
            "\n",
            "Simulation 3 (10000 points):\n",
            "Estimated Pi for 10000 points, points inside: 7803, Pi is: 3.1212\n",
            "\n",
            "Simulation with customized points (based on your ID):\n",
            "Estimated Pi for 700 points, points inside: 546, Pi is: 3.12\n"
          ]
        }
      ]
    },
    {
      "cell_type": "markdown",
      "source": [
        "This code will:\n",
        "\n",
        "* Run the `estimate_pi` function with 1000, 5000, and 10000 points.\n",
        "* Print the estimated Pi values along with the count of points inside the circle.\n",
        "* Compare them to the true value of Pi (3.14159)."
      ],
      "metadata": {
        "id": "TLkD3Nk6zZWy"
      }
    },
    {
      "cell_type": "markdown",
      "source": [
        "# Part 4: Results in Tabular Format"
      ],
      "metadata": {
        "id": "XFiYoq51zaNi"
      }
    },
    {
      "cell_type": "markdown",
      "source": [
        "Finally, you will want to organize your results in a table format that includes:\n",
        "\n",
        "* The range used (number of points).\n",
        "* The total points generated.\n",
        "* The number of points inside the circle.\n",
        "* The estimated Pi value.\n",
        "* The error compared to the true Pi.\n",
        "\n",
        "#### Code to format results:"
      ],
      "metadata": {
        "id": "ZheqdbDize5C"
      }
    },
    {
      "cell_type": "code",
      "source": [
        "import pandas as pd\n",
        "\n",
        "# Define a function to run the simulation and store the results in a table\n",
        "def run_simulations():\n",
        "    results = []\n",
        "\n",
        "    # Running simulations with different number of points\n",
        "    for points in [1000, 5000, 10000, num_points]:\n",
        "        inside = 0\n",
        "        for _ in range(points):\n",
        "            x = random.random()\n",
        "            y = random.random()\n",
        "            if x**2 + y**2 <= 1:\n",
        "                inside += 1\n",
        "\n",
        "        pi_estimate = 4 * inside / points\n",
        "        error = abs(pi_estimate - true_pi)\n",
        "\n",
        "        # Storing results\n",
        "        results.append([points, points, inside, pi_estimate, error])\n",
        "\n",
        "    # Creating a DataFrame for better visualization\n",
        "    df = pd.DataFrame(results, columns=[\"Range Used\", \"Total Points\", \"Points Inside\", \"Estimated Pi\", \"Error\"])\n",
        "    return df\n",
        "\n",
        "# Run simulations and display results\n",
        "df_results = run_simulations()\n",
        "print(df_results)"
      ],
      "metadata": {
        "colab": {
          "base_uri": "https://localhost:8080/"
        },
        "id": "HkJHXjJAzkd6",
        "outputId": "4c818939-3237-492c-a459-4886ffb79d76"
      },
      "execution_count": 10,
      "outputs": [
        {
          "output_type": "stream",
          "name": "stdout",
          "text": [
            "   Range Used  Total Points  Points Inside  Estimated Pi     Error\n",
            "0        1000          1000            764      3.056000  0.085590\n",
            "1        5000          5000           3945      3.156000  0.014410\n",
            "2       10000         10000           7870      3.148000  0.006410\n",
            "3         700           700            552      3.154286  0.012696\n"
          ]
        }
      ]
    },
    {
      "cell_type": "markdown",
      "source": [
        "# Conclusion"
      ],
      "metadata": {
        "id": "--8SWxDIzuPK"
      }
    },
    {
      "cell_type": "markdown",
      "source": [
        "These steps break down the simulation task into smaller parts. The code runs the simulation, estimates Pi, and compares the result to the actual value, as well as displaying the error."
      ],
      "metadata": {
        "id": "OC6LsOlxzzy6"
      }
    }
  ]
}